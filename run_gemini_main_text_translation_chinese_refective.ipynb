{
 "cells": [
  {
   "cell_type": "code",
   "execution_count": 561,
   "metadata": {},
   "outputs": [],
   "source": [
    "import os\n",
    "from google import genai\n",
    "from google.genai import types\n",
    "from dotenv import load_dotenv\n",
    "from pydantic import BaseModel, Field\n",
    "import json\n",
    "\n",
    "import unicodedata\n",
    "import re\n",
    "\n",
    "from pydantic import BaseModel, Field"
   ]
  },
  {
   "cell_type": "code",
   "execution_count": 562,
   "metadata": {},
   "outputs": [],
   "source": [
    "load_dotenv()\n",
    "project_name = os.getenv('PROJECT_NAME')"
   ]
  },
  {
   "cell_type": "markdown",
   "metadata": {},
   "source": [
    "The story id, from 1 to 13 according to the 13 Ainu Kamuy Yukars translated by Chiri Yukie. The Yukar ID starts at 1. Chiri's Preface is 0."
   ]
  },
  {
   "cell_type": "code",
   "execution_count": 563,
   "metadata": {},
   "outputs": [],
   "source": [
    "start_at = 9\n",
    "end_at = 9"
   ]
  },
  {
   "cell_type": "code",
   "execution_count": 564,
   "metadata": {},
   "outputs": [],
   "source": [
    "class Translation(BaseModel):\n",
    "    \"\"\"The updated translation, and the comments for the update\"\"\"\n",
    "    updated_translation: str = Field(description=\"The updated translation\")\n",
    "    comment: str = Field(description=\"Comments on the translation update\")"
   ]
  },
  {
   "cell_type": "code",
   "execution_count": 565,
   "metadata": {},
   "outputs": [],
   "source": [
    "system_instruction_prompt = \"\"\"You are a professional translator. You know Japanese, English and Chinese. You can translate Japanese into either Chinese or English.\"\"\"\n",
    "\n",
    "client = genai.Client(\n",
    "      vertexai=True,\n",
    "      project=project_name,\n",
    "      location=\"us-central1\",\n",
    ")\n",
    "\n",
    "model = \"gemini-2.0-flash-001\"\n",
    "\n",
    "generate_content_config = types.GenerateContentConfig(\n",
    "    temperature = 0,\n",
    "    top_p = 0,\n",
    "    max_output_tokens = 8192,\n",
    "    response_mime_type = 'application/json',\n",
    "    response_schema = Translation,\n",
    "    safety_settings = [types.SafetySetting(\n",
    "      category=\"HARM_CATEGORY_HATE_SPEECH\",\n",
    "      threshold=\"OFF\"\n",
    "    ),types.SafetySetting(\n",
    "      category=\"HARM_CATEGORY_DANGEROUS_CONTENT\",\n",
    "      threshold=\"OFF\"\n",
    "    ),types.SafetySetting(\n",
    "      category=\"HARM_CATEGORY_SEXUALLY_EXPLICIT\",\n",
    "      threshold=\"OFF\"\n",
    "    ),types.SafetySetting(\n",
    "      category=\"HARM_CATEGORY_HARASSMENT\",\n",
    "      threshold=\"OFF\"\n",
    "    )],\n",
    "    system_instruction=[types.Part.from_text(text=system_instruction_prompt)],\n",
    "  )"
   ]
  },
  {
   "cell_type": "code",
   "execution_count": 566,
   "metadata": {},
   "outputs": [],
   "source": [
    "reflection_prompt = \"\"\"You are translating the following Japanese text into Chinese. The original text is a chant sung by god telling his story. You already have a Chinese translation and an English translation.\n",
    "\n",
    "Here are your tasks:\n",
    "\n",
    "1. Criticise the Chinese translation based on the Japanese text. \n",
    "2. Compare the Chinese translation with the English translation.\n",
    "3. Improve the Chinese translation, especially incoporating the pros of the English translation.\n",
    "\n",
    "Keep the original meanings. Display in Traditional Chinese.\n",
    "\n",
    "This is the Japanese text.\n",
    "{japanese_text}\n",
    "\n",
    "This is the Chinese translation.\n",
    "{chinese_translation}\n",
    "\n",
    "This is the English translation.\n",
    "{english_translation}\n",
    "\"\"\"\n"
   ]
  },
  {
   "cell_type": "code",
   "execution_count": 567,
   "metadata": {},
   "outputs": [],
   "source": [
    "def generate(client: genai.Client,generate_content_config :types.GenerateContentConfig,model :str, /, prompt :str):\n",
    "\n",
    "    text_full_prompt = text1 = types.Part.from_text(text=f\"{prompt}\")\n",
    "\n",
    "    output = \"\"\n",
    "\n",
    "    contents = [\n",
    "      types.Content(\n",
    "        role=\"user\",\n",
    "        parts=[\n",
    "          text_full_prompt\n",
    "        ]\n",
    "      )\n",
    "    ]\n",
    "\n",
    "    for chunk in client.models.generate_content_stream(\n",
    "        model = model,\n",
    "        contents = contents,\n",
    "        config = generate_content_config,\n",
    "        ):\n",
    "        print(chunk.text, end=\"\")\n",
    "        output += chunk.text\n",
    "\n",
    "    return output\n",
    "\n",
    "def get_output_file_name_key(title :str):\n",
    "    # setup the output file name\n",
    "    s = title.split()\n",
    "    md_name_part = s[0]\n",
    "\n",
    "    name_2nd_part = \"\"\n",
    "\n",
    "    for text in s:\n",
    "        if text.startswith('“'):\n",
    "            name_2nd_part = text.replace('“', '').replace('”', '')\n",
    "        \n",
    "    md_name_part += \"_\" + name_2nd_part\n",
    "\n",
    "    return md_name_part\n",
    "\n",
    "\n"
   ]
  },
  {
   "cell_type": "code",
   "execution_count": 568,
   "metadata": {},
   "outputs": [],
   "source": [
    "# Read the markdown template for writing the Chinese translations to Markdown file\n",
    "\n",
    "#read in the template\n",
    "with open(\"templates/iter1_output_md_template\", \"r\", encoding=\"utf8\") as f:\n",
    "    md_template = f.read()\n",
    "    md_template = unicodedata.normalize('NFKC', md_template)"
   ]
  },
  {
   "cell_type": "code",
   "execution_count": 569,
   "metadata": {},
   "outputs": [],
   "source": [
    "# read the content page of Ainu original text and get the original title\n",
    "with open(\"original_Ainu_text/content.txt\", \"r\", encoding=\"utf8\") as f:\n",
    "    ainu_content = f.read()\n",
    "    ainu_content = unicodedata.normalize('NFKC', ainu_content)\n",
    "\n",
    "\n",
    "s=re.split(r'\\n\\n', ainu_content)\n",
    "ainu_titles = re.split(r'\\n', s[1])"
   ]
  },
  {
   "cell_type": "code",
   "execution_count": 570,
   "metadata": {},
   "outputs": [
    {
     "name": "stdout",
     "output_type": "stream",
     "text": [
      "{\n",
      "  \"comment\": \"The Chinese translation is generally accurate but lacks some of the nuance and flow of the original Japanese and the English translation. Specifically:\\n\\n*   **Repetition:** The Chinese translation repeats phrases like \\\"那個年輕人說道\\\" (that young man said) which, while accurate, makes the text feel less fluid. The English translation varies the phrasing to avoid this.\\n*   **Descriptive Language:** The English translation uses more descriptive language to enhance the imagery (e.g., \\\"hopped and played through the meadow,\\\" \\\"smiled gently\\\"). The Chinese translation is more literal and less evocative.\\n*   **Emphasis:** The English translation uses exclamation points and phrases like \\\"My heart swelled with joy!\\\" to convey the frog's increasing excitement. The Chinese translation is more subdued.\\n*   **Cultural Context:** The terms \\\"Yukar\\\" and \\\"Sakehau\\\" are transliterated in both the Chinese and English translations. It might be helpful to add a brief explanation or footnote for a Chinese audience, if possible, to provide context.\\n\\nComparison with English Translation:\\n\\nThe English translation excels in creating a more engaging narrative. It captures the frog's playful nature and the increasing tension as the story progresses. The Chinese translation is more straightforward and less emotionally resonant.\\n\\nPros of the English translation to incorporate:\\n\\n*   Varying sentence structure and phrasing to avoid repetition.\\n*   Using more descriptive language to create vivid imagery.\\n*   Conveying the frog's emotions more effectively through stronger word choices.\\n*   Adding brief explanations or context where necessary to enhance understanding.\",\n",
      "  \"updated_translation\": \"青蛙自述之歌\\n\\n「托羅羅 漢羅庫 漢羅庫!」\\n\\n「托羅羅 漢羅庫 漢羅庫!」\\n\\n「有一天，我在草原上蹦蹦跳跳地玩耍時，偶然看見一間房子。我走到門口，往裡面窺探。只見屋內堆滿了寶物，旁邊有個高台。高台上坐著一個年輕人，正低著頭雕刻刀鞘。\\n\\n我想捉弄他一下，便坐在門檻上，高聲唱道：「托羅羅 漢羅庫 漢羅庫!」\\n\\n那年輕人抬起拿著刀的手，看了我一眼，溫和地笑了笑，說：「這是你的歌嗎？是你喜悅的歌聲嗎？真想多聽聽。」\\n\\n我聽了很高興，再次唱道：「托羅羅 漢羅庫 漢羅庫!」\\n\\n年輕人接著問：「這是你的尤喀拉（Yukar）嗎？薩凱豪（Sakehau）嗎？我想更靠近一點聽。」\\n\\n聽到這話，我欣喜若狂！立刻跳到下座的爐緣上，唱道：「托羅羅 漢羅庫 漢羅庫!」\\n\\n年輕人又說：「這是你的尤喀拉（Yukar）嗎？薩凱豪（Sakehau）嗎？我想更靠近一點聽。」\\n\\n我心中充滿喜悅！跳到上座爐緣的角落，唱道：「托羅羅 漢羅庫 漢羅庫!」\\n\\n突然！那年輕人猛地站起身！他抓起一根燃燒的巨大木柴，朝我扔了過來！我感覺整個世界都朝我壓了下來，然後…我就什麼都不知道了。\\n\\n當我醒來時，發現自己身處垃圾堆的邊緣。一隻肚子鼓脹的青蛙死了，我就坐在牠的兩耳之間。\\n\\n仔細一看，我才意識到，我原以為只是一間普通的人家，實際上是奧基基里穆伊（Okikirmui），一位擁有強大神力的神祇的家！而我竟然在不知情的情況下，捉弄了他。\\n\\n現在，我就要這樣愚蠢、這樣可悲地死去。所以，我要告訴所有後來的青蛙們：千萬、千萬不要捉弄人類啊！」\\n\\n肚子鼓脹的青蛙說完這些話，便斷了氣。\"\n",
      "}青蛙自述之歌\n",
      "\n",
      "「托羅羅 漢羅庫 漢羅庫!」\n",
      "\n",
      "「托羅羅 漢羅庫 漢羅庫!」\n",
      "\n",
      "「有一天，我在草原上蹦蹦跳跳地玩耍時，偶然看見一間房子。我走到門口，往裡面窺探。只見屋內堆滿了寶物，旁邊有個高台。高台上坐著一個年輕人，正低著頭雕刻刀鞘。\n",
      "\n",
      "我想捉弄他一下，便坐在門檻上，高聲唱道：「托羅羅 漢羅庫 漢羅庫!」\n",
      "\n",
      "那年輕人抬起拿著刀的手，看了我一眼，溫和地笑了笑，說：「這是你的歌嗎？是你喜悅的歌聲嗎？真想多聽聽。」\n",
      "\n",
      "我聽了很高興，再次唱道：「托羅羅 漢羅庫 漢羅庫!」\n",
      "\n",
      "年輕人接著問：「這是你的尤喀拉（Yukar）嗎？薩凱豪（Sakehau）嗎？我想更靠近一點聽。」\n",
      "\n",
      "聽到這話，我欣喜若狂！立刻跳到下座的爐緣上，唱道：「托羅羅 漢羅庫 漢羅庫!」\n",
      "\n",
      "年輕人又說：「這是你的尤喀拉（Yukar）嗎？薩凱豪（Sakehau）嗎？我想更靠近一點聽。」\n",
      "\n",
      "我心中充滿喜悅！跳到上座爐緣的角落，唱道：「托羅羅 漢羅庫 漢羅庫!」\n",
      "\n",
      "突然！那年輕人猛地站起身！他抓起一根燃燒的巨大木柴，朝我扔了過來！我感覺整個世界都朝我壓了下來，然後…我就什麼都不知道了。\n",
      "\n",
      "當我醒來時，發現自己身處垃圾堆的邊緣。一隻肚子鼓脹的青蛙死了，我就坐在牠的兩耳之間。\n",
      "\n",
      "仔細一看，我才意識到，我原以為只是一間普通的人家，實際上是奧基基里穆伊（Okikirmui），一位擁有強大神力的神祇的家！而我竟然在不知情的情況下，捉弄了他。\n",
      "\n",
      "現在，我就要這樣愚蠢、這樣可悲地死去。所以，我要告訴所有後來的青蛙們：千萬、千萬不要捉弄人類啊！」\n",
      "\n",
      "肚子鼓脹的青蛙說完這些話，便斷了氣。\n",
      "The Chinese translation is generally accurate but lacks some of the nuance and flow of the original Japanese and the English translation. Specifically:\n",
      "\n",
      "*   **Repetition:** The Chinese translation repeats phrases like \"那個年輕人說道\" (that young man said) which, while accurate, makes the text feel less fluid. The English translation varies the phrasing to avoid this.\n",
      "*   **Descriptive Language:** The English translation uses more descriptive language to enhance the imagery (e.g., \"hopped and played through the meadow,\" \"smiled gently\"). The Chinese translation is more literal and less evocative.\n",
      "*   **Emphasis:** The English translation uses exclamation points and phrases like \"My heart swelled with joy!\" to convey the frog's increasing excitement. The Chinese translation is more subdued.\n",
      "*   **Cultural Context:** The terms \"Yukar\" and \"Sakehau\" are transliterated in both the Chinese and English translations. It might be helpful to add a brief explanation or footnote for a Chinese audience, if possible, to provide context.\n",
      "\n",
      "Comparison with English Translation:\n",
      "\n",
      "The English translation excels in creating a more engaging narrative. It captures the frog's playful nature and the increasing tension as the story progresses. The Chinese translation is more straightforward and less emotionally resonant.\n",
      "\n",
      "Pros of the English translation to incorporate:\n",
      "\n",
      "*   Varying sentence structure and phrasing to avoid repetition.\n",
      "*   Using more descriptive language to create vivid imagery.\n",
      "*   Conveying the frog's emotions more effectively through stronger word choices.\n",
      "*   Adding brief explanations or context where necessary to enhance understanding.\n"
     ]
    }
   ],
   "source": [
    "for song_no in range(start_at, end_at + 1):\n",
    "\n",
    "    md_name_part = get_output_file_name_key(ainu_titles[song_no - 1])\n",
    "\n",
    "    with open(f\"raw_translations_main_text_json/{song_no}_{md_name_part}.json\", \"r\", encoding=\"utf8\") as f:\n",
    "        data_dict = json.load(f)\n",
    "\n",
    "    reflection_prompt_formatted = reflection_prompt.format(japanese_text=data_dict['japanese_translation'],chinese_translation=data_dict['chinese_translation'],english_translation=data_dict['english_translation'])\n",
    "\n",
    "    updated_translation = generate(client,generate_content_config,model,prompt = reflection_prompt_formatted)\n",
    "\n",
    "    updated_translation_dict = json.loads(updated_translation)\n",
    "    print(updated_translation_dict['updated_translation'])\n",
    "    print(updated_translation_dict['comment'])\n",
    "\n",
    "    data_dict['updated_chinese_translation'] = updated_translation_dict['updated_translation']\n",
    "    data_dict['update_comment'] = updated_translation_dict['comment']\n",
    "\n",
    "    md_output = md_template.format(translated_language=\"Chinese\", ainu_title=data_dict['ainu_title'],\n",
    "                formatted_prompt=reflection_prompt_formatted,\n",
    "                japanese_title=data_dict['japanese_title'], input_japanese = data_dict['japanese_translation'],\n",
    "                output= f\"{data_dict['updated_chinese_translation']}\\n\\n{data_dict['update_comment']}\")\n",
    "\n",
    "    with open(f\"updated_translations_main_text_iter1/Chinese_Translation_JSON/{song_no}_{md_name_part}.json\", \"w\", encoding=\"utf8\") as f:\n",
    "        json.dump(data_dict, f, ensure_ascii=False, indent=4)\n",
    "\n",
    "    with open(f\"updated_translations_main_text_iter1/Chinese_Translation/{song_no}_{md_name_part}.md\", \"w\", encoding=\"utf8\") as f:\n",
    "        f.write(md_output)\n",
    "\n"
   ]
  },
  {
   "cell_type": "code",
   "execution_count": null,
   "metadata": {},
   "outputs": [],
   "source": []
  },
  {
   "cell_type": "code",
   "execution_count": null,
   "metadata": {},
   "outputs": [],
   "source": []
  },
  {
   "cell_type": "code",
   "execution_count": null,
   "metadata": {},
   "outputs": [],
   "source": []
  }
 ],
 "metadata": {
  "kernelspec": {
   "display_name": "llama",
   "language": "python",
   "name": "python3"
  },
  "language_info": {
   "codemirror_mode": {
    "name": "ipython",
    "version": 3
   },
   "file_extension": ".py",
   "mimetype": "text/x-python",
   "name": "python",
   "nbconvert_exporter": "python",
   "pygments_lexer": "ipython3",
   "version": "3.11.11"
  }
 },
 "nbformat": 4,
 "nbformat_minor": 2
}
