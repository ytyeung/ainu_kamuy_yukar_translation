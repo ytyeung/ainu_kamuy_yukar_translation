{
 "cells": [
  {
   "cell_type": "code",
   "execution_count": 59,
   "metadata": {},
   "outputs": [],
   "source": [
    "import os\n",
    "from google import genai\n",
    "from google.genai import types\n",
    "from dotenv import load_dotenv\n",
    "from pydantic import BaseModel, Field\n",
    "import json\n",
    "\n",
    "import unicodedata\n",
    "import re"
   ]
  },
  {
   "cell_type": "code",
   "execution_count": 60,
   "metadata": {},
   "outputs": [],
   "source": [
    "load_dotenv()\n",
    "project_name = os.getenv('PROJECT_NAME')"
   ]
  },
  {
   "cell_type": "markdown",
   "metadata": {},
   "source": [
    "The story id, from 1 to 13 according to the 13 Ainu Kamuy Yukars translated by Chiri Yukie. The Yukar ID starts at 1. Chiri's Preface is 0."
   ]
  },
  {
   "cell_type": "code",
   "execution_count": null,
   "metadata": {},
   "outputs": [],
   "source": [
    "start_at = 1\n",
    "end_at = 13"
   ]
  },
  {
   "cell_type": "code",
   "execution_count": 62,
   "metadata": {},
   "outputs": [],
   "source": [
    "client = genai.Client(\n",
    "      vertexai=True,\n",
    "      project=project_name,\n",
    "      location=\"us-central1\",\n",
    ")\n",
    "\n",
    "model = \"gemini-2.0-flash-001\"\n",
    "\n",
    "generate_content_config = types.GenerateContentConfig(\n",
    "    temperature = 0,\n",
    "    top_p = 0,\n",
    "  )"
   ]
  },
  {
   "cell_type": "code",
   "execution_count": 63,
   "metadata": {},
   "outputs": [],
   "source": [
    "# read the content page of Japanese translation and get the Japanese translated title\n",
    "with open(\"Chiri_Japanese_Translation/content.txt\", \"r\", encoding=\"utf8\") as f:\n",
    "    japanese_content = f.read()\n",
    "    japanese_content = unicodedata.normalize('NFKC', japanese_content)\n",
    "\n",
    "\n",
    "s=re.split(r'\\n\\n', japanese_content)\n",
    "japanese_titles = re.split(r'\\n', s[1])"
   ]
  },
  {
   "cell_type": "code",
   "execution_count": 64,
   "metadata": {},
   "outputs": [],
   "source": [
    "# read the content page of Ainu original text and get the original title\n",
    "with open(\"original_Ainu_text/content.txt\", \"r\", encoding=\"utf8\") as f:\n",
    "    ainu_content = f.read()\n",
    "    ainu_content = unicodedata.normalize('NFKC', ainu_content)\n",
    "\n",
    "\n",
    "s=re.split(r'\\n\\n', ainu_content)\n",
    "ainu_titles = re.split(r'\\n', s[1])"
   ]
  },
  {
   "cell_type": "code",
   "execution_count": 65,
   "metadata": {},
   "outputs": [],
   "source": [
    "chinese_extraction_prompt = \"The provided content is a Chinese translation of the Ainu original text in Markdown. Please extract the Chinese translation. Only extract the numbered items.\"\n",
    "english_extraction_prompt = \"The provided content is an English translation of the Ainu original text in Markdown. Please extract the English translation. Only extract the numbered items.\""
   ]
  },
  {
   "cell_type": "code",
   "execution_count": 66,
   "metadata": {},
   "outputs": [],
   "source": [
    "def generate(client: genai.Client,generate_content_config :types.GenerateContentConfig,model :str, /,input_text :str, prompt :str):\n",
    "\n",
    "    text_full_prompt = text1 = types.Part.from_text(text=f\"{prompt}\\n\\n{input_text}\")\n",
    "\n",
    "    output = \"\"\n",
    "\n",
    "    contents = [\n",
    "      types.Content(\n",
    "        role=\"user\",\n",
    "        parts=[\n",
    "          text_full_prompt\n",
    "        ]\n",
    "      )\n",
    "    ]\n",
    "\n",
    "    for chunk in client.models.generate_content_stream(\n",
    "        model = model,\n",
    "        contents = contents,\n",
    "        config = generate_content_config,\n",
    "        ):\n",
    "        print(chunk.text, end=\"\")\n",
    "        output += chunk.text\n",
    "\n",
    "    return output\n",
    "\n",
    "def get_output_file_name_key(title :str):\n",
    "    # setup the output file name\n",
    "    s = title.split()\n",
    "    md_name_part = s[0]\n",
    "\n",
    "    name_2nd_part = \"\"\n",
    "\n",
    "    for text in s:\n",
    "        if text.startswith('“'):\n",
    "            name_2nd_part = text.replace('“', '').replace('”', '')\n",
    "        \n",
    "    md_name_part += \"_\" + name_2nd_part\n",
    "\n",
    "    return md_name_part\n",
    "\n"
   ]
  },
  {
   "cell_type": "code",
   "execution_count": null,
   "metadata": {},
   "outputs": [
    {
     "name": "stdout",
     "output_type": "stream",
     "text": [
      "(1) isoeonkami.iso 是海幸,eonkami 是......謝罪之意。\n",
      "鯨魚擱淺在岸邊,是因為海神大人為了賜予人類,親自帶來並推上岸的,人們深信不疑,此時一定會由德高望重的人盛裝打扮,面向大海的方向進行禮拜。\n",
      "(2) ononno. 這是出海或上山打獵的人,帶著獵物歸來時,迎接的人們異口同聲說出的話語。\n",
      "(3) uniwente......大水災、火災、火山爆發等各種天災之後,或是有人被熊吃掉、落入海或河中,以及其他任何因變故而受傷或死亡的情況下所舉行的儀式。\n",
      "屆時,人們會互相用槍或刀尖抵住對方,同時交換慰問之詞。一個村莊若有災民,鄰近村莊會派出許多代表聚集到該村莊舉行儀式,即使只有一個人也會舉行。\n",
      "(4) hokokse......uniwente 時,或發生重大變故時,向神明祈求救助時男性的呼喊聲。フオホホーイ,僅限男性。\n",
      "(5) ashur 是變故的消息,ek 是到來。\n",
      "......從村莊遠方出外旅行的人,生病或死亡時,由該地派遣使者將變故告知其故鄉,或是從其他村莊有人來告知某某人過世了,或發生了某某變故等等,人們將這種情況稱為 ashur。\n",
      "該使者被稱為 ashurkorkur(帶有變故消息的人)。\n",
      "ashurkorkur 在靠近村莊時,首先會大聲呼喊 hokokse(フオホホーイ)。聽到呼喊聲的村民,也會大聲呼喊,並到村莊邊緣迎接,詢問變故的消息。\n",
      "(6) uchishkar......互相哭泣。這是女性的寒暄方式,久別重逢時、近親過世時、有人遭遇重大危險好不容易脫險時等等,女性之間會手牽著手,或互相擁抱頭部或肩膀哭泣。\n",
      "(7) matrimimse(女性的呼喊聲)......發生緊急情況或 uniwente 的情況時,男性會發出粗獷的 hokokse(フオホホーイ)聲,女性則會發出細微的ホーイ聲。\n",
      "據說女性的聲音比男性的聲音更高亢響亮,因此能先傳入神明的耳中。因此,發生緊急變故時,即使是男性也會像女性一樣發出細微的聲音,呼喊兩三聲。\n",
      "(8) peutanke......與 rimimse 相同的意思,但這是普通常用的詞彙,rimimse 則稍微是比較難的詞彙。\n",
      "1.  isoeonkami.iso refers to the sea, eonkami refers to the act of apologizing for something.\n",
      "It is believed that when a whale washes ashore, the Great God of the Sea brings it himself to give to humans, and washes it ashore. At that time, important people dress up formally and worship facing the sea.\n",
      "\n",
      "2.  ononno. This is a word that people say repeatedly when someone returns from hunting in the mountains or at sea with some game.\n",
      "\n",
      "3.  uniwente...... A ritual performed after a major flood, fire, volcanic eruption, or other natural disasters, or when someone is eaten by a bear, falls into the sea or river, or is injured or dies due to any unusual event.\n",
      "At that time, they exchange words of condolence while pointing the tips of spears and swords at each other. When a disaster victim appears in one village, many representatives from neighboring villages gather in that village to perform the ritual, but it can also be done between two people.\n",
      "\n",
      "4.  hokokse...... A man's cry to ask for help from the gods during uniwente or when a terrible event has occurred. \"Hohho-i,\" and this is limited to men.\n",
      "\n",
      "5.  ashur means unusual news, ek means to come.\n",
      "......When someone who has traveled far from the village becomes ill or dies, a messenger comes from that place to the person's hometown to report the unusual event, or when someone comes to the village to report that someone has died in another village, or that something unusual has happened.\n",
      "That messenger is called ashurkorkur (person with unusual news).\n",
      "When ashurkorkur comes near the village, he first shouts loudly hokokse (Hohho-i). Then, the villagers who hear it also shout loudly and go out to the edge of the village to greet him and hear the unusual news.\n",
      "\n",
      "6.  uchishkar...... Crying together. This is a woman's greeting, when they meet after a long separation, when a close relative has died, or when someone has been in great danger and has finally escaped, women hold hands or hug each other's heads or shoulders and cry.\n",
      "\n",
      "7.  matrimimse (woman's cry)...... In case of a sudden change or in the case of uniwente, men make a loud voice of hokokse (Hohho-i), but women shout in a thin voice, \"Ho-i.\"\n",
      "It is said that women's voices are higher and stronger than men's voices, so they reach the ears of the gods first. Therefore, when a sudden event occurs, even men make a thin voice like women and shout two or three times.\n",
      "\n",
      "8.  peutanke...... Has the same meaning as rimimse, but this is a commonly used word, while rimimse is a slightly difficult word.\n",
      "(1) pau. 狐狸叫聲的擬聲詞。\n",
      "(2) pushtotta......形狀像袋子的東西,出海打獵時用來裝火具、藥品和其他零碎必需品。用途相同的還有 piuchiop, karop 等,但因為是用蒲草、厚司織等製作,所以在陸地上使用。pushtotta 是用熊皮、海豹皮或其他毛皮製成,因此不透水,所以帶到海上去。\n",
      "(3) noya ai......蓬蒿之箭。蓬蒿是愛努人尊崇的草。據說被蓬蒿之箭射中,會無法漂浮,因此是惡魔最害怕的東西,所以遠行時會將其視為必需品之一。\n",
      "(4) 原本男廁和女廁是分開的。ashinru 和 eosineru 都是廁所的意思。\n",
      "在狐狸之中,黑狐被認為是最尊貴的。突出於海中的海岬大多是黑狐的領地,據說除非發生非常重大的事情,否則黑狐不會讓人聽到它的聲音。\n",
      "Okikurumi (Okikirmui) 和 Samayunkur 和 Shupunramka 是表兄弟,Shupunramka 年紀最大,Okikirmui 年紀最小。Shupunramka 性格溫和內向,所以沒有什麼故事,但 Samayunkur 性格暴躁,缺乏智慧,是個冒失鬼,性格惡劣的膽小鬼,Okikirmui 則像神一樣充滿智慧,富有同情心,是個勇敢偉大的人,因此關於他的故事多到數不清。\n",
      "(1) pau: Onomatopoeia for the sound of a fox's cry.\n",
      "\n",
      "(2) pushtotta: A bag-like item used when going sea hunting, to carry fire-making tools, medicines, and other small necessities. Similar items for the same purpose include *piuchiop* and *karop*, but these are made from cattail matting (*gama*) or *attush* woven fabric, so they are used on land. *pushtotta* are made from bear skin, seal skin, or other fur, making them waterproof and suitable for taking to sea.\n",
      "\n",
      "(3) noya ai: Arrow made of mugwort. Mugwort is a plant revered by the Ainu. It is said that demons fear being struck by a mugwort arrow because it prevents them from floating away, making it an essential item for long journeys.\n",
      "\n",
      "(4) Originally, men's and women's toilets were separate. *ashinru* and *eosineru* both refer to toilets.\n",
      "\n",
      "Among foxes, the black fox is considered the most revered. Capes jutting out into the sea are generally considered the territory of black foxes, and it is said that a black fox will not make its presence known to humans unless something very serious is happening.\n",
      "\n",
      "*Okikurumi (Okikirmui)*, *Samayunkur*, and *Shupunramka* are cousins, with *Shupunramka* being the oldest and *Okikirmui* the youngest. *Shupunramka* is a gentle and timid person, so there are no stories about him. *Samayunkur* is short-tempered, lacks wisdom, is hasty, has a bad nature, and is a coward. *Okikirmui*, on the other hand, is wise like a god, compassionate, courageous, and a great person, so there are countless stories about him.\n",
      "(1) アマツポ(弩いしゆみ),即「機關弓」的設置。\n",
      "(2) 刀劍。此與戰爭時使用的刀劍不同,平時是吊在家中右座堆放寶物之處。戰爭時不會使用,但在 uniwente 等場合會使用。\n",
      "(1) Amatsupo (弩いしゆみ): That is, setting up a \"trick bow.\"\n",
      "(2) Swords. These are different from the swords used in war. They are usually hung above the pile of treasures on the right side of the house. They are not used in war, but are used during *uniwente*, etc.\n",
      "There is no numbered item in the provided content.\n",
      "There are no numbered items in the provided text.\n",
      "There are no numbered items in the provided text.\n",
      "There are no numbered items in the provided text.\n",
      "(1) katken......川玻璃。自古以來就被視為非常吉祥的鳥。\n",
      "(1) katken......River Dipper. It is a bird that has been highly respected as a very good bird since ancient times.\n",
      "(1) 以御幣裝飾之物,於向神明獻上神酒時使用。此 kike-ush-pashui 擔任人類的代理,據說會將人類想對神明說的話傳達給神明。未裝飾御幣的普通筷子稱為 iku pashui(酒宴用筷)。\n",
      "(1) This is an ornament decorated with *gohei* (paper streamers), and it is used when offering sake to the gods. This *kike-ush-pashui* acts as a representative of humans, and it is said to go to the gods and convey what humans want to say to them. Ordinary chopsticks without *gohei* are called *iku pashui* (chopsticks for feasts).\n",
      "There are no numbered items in the provided text.\n",
      "There are no numbered items in the provided text.\n",
      "There is no numbered item in the provided content.\n",
      "There are no numbered items in the provided text.\n",
      "(1) iwan poknashir......六個地獄。地底下有六層世界,那裡住著各式各樣的惡魔。\n",
      "(1) iwan poknashir......Six Hells. Beneath the earth, there are six levels, and various demons dwell there.\n",
      "(1) achikara......意指「骯髒」。帶有奇怪、自大的意味。\n",
      "這個故事中,Okikirmui 的父親和 pon nitnekamui 的父親之前曾爆發過非常激烈的戰爭,因此 pon okikirmui 和 pon nitnekamui 之間是敵對關係。關於他們父輩戰爭的詳細情況,在另一個故事中有詳細描述。\n",
      "(1) achikara...... \"kitanai\" [dirty]. Includes meanings such as strange, impertinent.\n",
      "\n",
      "In this story, the father of Okikirmui and the father of pon nitnekamui had a very fierce war in the past, so this pon okikirmui and pon nitnekamui are enemies. The details of the war between their parents are described in detail in another story.\n",
      "(1) kinatantuka......蒲草束。蒲草編織成類似蓆子的鋪墊物,但如果直接編織乾燥的蒲草是不行的,所以要稍微弄濕後再使用。這個故事裡提到的,大概也是為了這個原因,女人才把蒲草帶到河邊。\n",
      "\n",
      "(2) i-okapushpa. 人們非常忌諱說出已故父母或親戚的名字,或者平常談論他們的事情,這被稱為 i-okapushpa。此外,從旁挖掘別人隱藏的事情,並告訴大家,或者說出那個人難以啟齒的、過去的行為等等,也被稱為 i-okapushpa。\n",
      "\n",
      "(3) nimakitara......露出獠牙。指的是狗。山裡的獵人在狩獵時會帶著狗,因為被狗露出牙齒攻擊是最可怕的,所以用這樣的名字來稱呼狗,表示恐懼。\n",
      "(1) kinatantuka...... A bundle of cattails. Cattails are woven into mats and other coverings, but if you try to weave them when they are completely dry, it won't work well. So, they are slightly moistened before use. In this story, the woman is probably taking them to the river for that purpose.\n",
      "\n",
      "(2) i-okapushpa. People greatly dislike saying the names of deceased parents or relatives, or even talking about them in everyday conversation, which is called *i-okapushpa*. Also, digging up things that people have kept hidden and telling everyone, or bringing up past actions that are difficult for the person to hear, especially in front of them, is also called *i-okapushpa*.\n",
      "\n",
      "(3) nimakitara...... Baring its fangs. This refers to a dog. When people go hunting in the mountains, they take dogs with them, and being attacked by a dog baring its teeth is the most frightening thing. Therefore, they give dogs this kind of name out of fear.\n"
     ]
    }
   ],
   "source": [
    "# process the translation in batch mode\n",
    "\n",
    "for song_no in range(start_at, end_at + 1):\n",
    "\n",
    "    md_name_part = get_output_file_name_key(ainu_titles[song_no - 1])\n",
    "\n",
    "    with open(f\"Chiri_footnotes/footnote_story_{song_no}.txt\", \"r\", encoding=\"utf8\") as f:\n",
    "        japanese_story = f.read()\n",
    "        japanese_story = unicodedata.normalize('NFKC', japanese_story)\n",
    "\n",
    "    with open(f\"LLM_prompts_and_raw_translations_footnotes/Chinese_Translation/{song_no}_{md_name_part}_to_Chinese.md\", \"r\", encoding=\"utf8\") as f:\n",
    "        md_chinese_text = f.read()\n",
    "        md_chinese_text = unicodedata.normalize('NFKC', md_chinese_text)\n",
    "\n",
    "        chinese_translation_extraction = generate(client,generate_content_config,model,input_text=md_chinese_text,prompt=chinese_extraction_prompt)\n",
    "\n",
    "    with open(f\"LLM_prompts_and_raw_translations_footnotes/English_Translation/{song_no}_{md_name_part}_to_English.md\", \"r\", encoding=\"utf8\") as f:\n",
    "        md_english_text = f.read()\n",
    "        md_english_text = unicodedata.normalize('NFKC', md_english_text)\n",
    "\n",
    "        english_translation_extraction = generate(client,generate_content_config,model,input_text=md_english_text,prompt=english_extraction_prompt)\n",
    "\n",
    "\n",
    "\n",
    "    data_dict = {'ainu_title': ainu_titles[song_no - 1], 'japanese_title': japanese_titles[song_no], 'japanese_translation': japanese_story, 'chinese_translation': chinese_translation_extraction, 'english_translation': english_translation_extraction}\n",
    "\n",
    "    with open(f\"raw_translations_footnotes_json/{song_no}_{md_name_part}.json\", \"w\", encoding=\"utf8\") as f:\n",
    "        json.dump(data_dict, f, ensure_ascii=False, indent=4)\n",
    "\n"
   ]
  },
  {
   "cell_type": "code",
   "execution_count": null,
   "metadata": {},
   "outputs": [],
   "source": []
  },
  {
   "cell_type": "code",
   "execution_count": null,
   "metadata": {},
   "outputs": [],
   "source": []
  },
  {
   "cell_type": "code",
   "execution_count": null,
   "metadata": {},
   "outputs": [],
   "source": []
  }
 ],
 "metadata": {
  "kernelspec": {
   "display_name": "llama",
   "language": "python",
   "name": "python3"
  },
  "language_info": {
   "codemirror_mode": {
    "name": "ipython",
    "version": 3
   },
   "file_extension": ".py",
   "mimetype": "text/x-python",
   "name": "python",
   "nbconvert_exporter": "python",
   "pygments_lexer": "ipython3",
   "version": "3.11.11"
  }
 },
 "nbformat": 4,
 "nbformat_minor": 2
}
