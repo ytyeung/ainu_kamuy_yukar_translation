{
 "cells": [
  {
   "cell_type": "code",
   "execution_count": 204,
   "metadata": {},
   "outputs": [],
   "source": [
    "from google import genai\n",
    "from google.genai import types\n",
    "import base64\n",
    "import json\n",
    "import os\n",
    "from dotenv import load_dotenv\n",
    "\n",
    "import unicodedata\n",
    "import re"
   ]
  },
  {
   "cell_type": "code",
   "execution_count": 205,
   "metadata": {},
   "outputs": [],
   "source": [
    "load_dotenv()\n",
    "project_name = os.getenv('PROJECT_NAME')"
   ]
  },
  {
   "cell_type": "code",
   "execution_count": 206,
   "metadata": {},
   "outputs": [],
   "source": [
    "# the story id, from 1 to 13 for 13 Ainu Kamuy Yukar\n",
    "SONG_NO = 12"
   ]
  },
  {
   "cell_type": "code",
   "execution_count": 207,
   "metadata": {},
   "outputs": [],
   "source": [
    "system_instruction_prompt = \"\"\"You are a professional translator. You know Japanese, English and Chinese. You can translate Japanese into either Chinese or English.\"\"\"\n",
    "\n",
    "client = genai.Client(\n",
    "      vertexai=True,\n",
    "      project=project_name,\n",
    "      location=\"us-central1\",\n",
    ")\n",
    "\n",
    "model = \"gemini-2.0-flash-001\"\n",
    "\n",
    "generate_content_config = types.GenerateContentConfig(\n",
    "    temperature = 0,\n",
    "    top_p = 0,\n",
    "    max_output_tokens = 8192,\n",
    "    response_modalities = [\"TEXT\"],\n",
    "    safety_settings = [types.SafetySetting(\n",
    "      category=\"HARM_CATEGORY_HATE_SPEECH\",\n",
    "      threshold=\"OFF\"\n",
    "    ),types.SafetySetting(\n",
    "      category=\"HARM_CATEGORY_DANGEROUS_CONTENT\",\n",
    "      threshold=\"OFF\"\n",
    "    ),types.SafetySetting(\n",
    "      category=\"HARM_CATEGORY_SEXUALLY_EXPLICIT\",\n",
    "      threshold=\"OFF\"\n",
    "    ),types.SafetySetting(\n",
    "      category=\"HARM_CATEGORY_HARASSMENT\",\n",
    "      threshold=\"OFF\"\n",
    "    )],\n",
    "    system_instruction=[types.Part.from_text(text=system_instruction_prompt)],\n",
    "  )"
   ]
  },
  {
   "cell_type": "code",
   "execution_count": 208,
   "metadata": {},
   "outputs": [],
   "source": [
    "def generate(client: genai.Client,generate_content_config :types.GenerateContentConfig,model :str, /,input_text :str, prompt :str):\n",
    "\n",
    "    text_full_prompt = text1 = types.Part.from_text(text=f\"{prompt}\\n\\n{input_text}\")\n",
    "\n",
    "    output = \"\"\n",
    "\n",
    "    contents = [\n",
    "      types.Content(\n",
    "        role=\"user\",\n",
    "        parts=[\n",
    "          text_full_prompt\n",
    "        ]\n",
    "      )\n",
    "    ]\n",
    "\n",
    "    for chunk in client.models.generate_content_stream(\n",
    "        model = model,\n",
    "        contents = contents,\n",
    "        config = generate_content_config,\n",
    "        ):\n",
    "        print(chunk.text, end=\"\")\n",
    "        output += chunk.text\n",
    "\n",
    "    return output\n",
    "\n"
   ]
  },
  {
   "cell_type": "code",
   "execution_count": 209,
   "metadata": {},
   "outputs": [],
   "source": [
    "poetic_translation_prompt = \"Translate the following text from Japanese to Chinese. The original text is a poem. Try to make the translation poetic but keep the original meanings. Display in Traditional Chinese.\"\n",
    "\n",
    "descriptive_translation_prompt = \"Translate the following text from Japanese to Chinese. Keep the original meanings. Display in Traditional Chinese.\""
   ]
  },
  {
   "cell_type": "code",
   "execution_count": 210,
   "metadata": {},
   "outputs": [],
   "source": [
    "# read the content page of Japanese translation and get the Japanese translated title\n",
    "with open(\"Chiri_Japanese_Translation/content.txt\", \"r\", encoding=\"utf8\") as f:\n",
    "    japanese_content = f.read()\n",
    "    japanese_content = unicodedata.normalize('NFKC', japanese_content)\n",
    "\n",
    "\n",
    "s=re.split(r'\\n\\n', japanese_content)\n",
    "japanese_titles = re.split(r'\\n', s[1])"
   ]
  },
  {
   "cell_type": "code",
   "execution_count": 211,
   "metadata": {},
   "outputs": [],
   "source": [
    "# read the content page of Ainu original text and get the original title\n",
    "with open(\"original_Ainu_text/content.txt\", \"r\", encoding=\"utf8\") as f:\n",
    "    ainu_content = f.read()\n",
    "    ainu_content = unicodedata.normalize('NFKC', ainu_content)\n",
    "\n",
    "\n",
    "s=re.split(r'\\n\\n', ainu_content)\n",
    "ainu_titles = re.split(r'\\n', s[1])"
   ]
  },
  {
   "cell_type": "code",
   "execution_count": 212,
   "metadata": {},
   "outputs": [],
   "source": [
    "# read the Japanese translation of the Ainu original text\n",
    "with open(f\"Chiri_Japanese_Translation/story_translation_{SONG_NO}.txt\", \"r\", encoding=\"utf8\") as f:\n",
    "    japanese_story = f.read()\n",
    "    japanese_story = unicodedata.normalize('NFKC', japanese_story)"
   ]
  },
  {
   "cell_type": "code",
   "execution_count": 213,
   "metadata": {},
   "outputs": [
    {
     "data": {
      "text/plain": [
       "'獺かわうそが自ら歌った謡\\n「カッパ レウレウ カッパ」\\n\\nカッパ レウレウ カッパ\\nある日に,流れに沿うて遊びながら\\n泳いで下りサマユンクルの\\n水汲路のところに来ると,\\nサマユンクルの妹が神の様な美しい容子で\\n片手に手桶を持ち片手に\\n蒲の束を持って来ているので\\n川の縁に私は頭だけ出し,\\n「お父様をお持ちですか?\\nお母様をお持ちですか?」と云うと,\\n娘さんは驚いて眼をきょろきょろさせ\\n私を見つけると,怒の色を顔に\\n現して,\\n「まあ,にくらしい扁平頭,悪い扁平頭が\\n人をばかにして.犬たちよ,ココ......」\\nと言うと,大きな犬どもが\\n駈け出して来て,私を見ると牙を鳴ら\\nしている.私はビックリして川の底へ\\n潜り込んで直ぐそのまま川底を通って\\n逃げ下った.\\nそうして,オキキリムイの水汲路の\\n川口へ頭だけだして\\n見ると,オキキリムイの妹が\\n神の様に美しい様子で片手に手桶を持ち\\n片手に蒲の束を持って\\n来たので私のいうことには,\\n「御父様をお持ちですか?\\n御母様をお持ちですか?」というと,\\n娘さんは驚いて眼をきょろきょろさせ\\n私を見ると,怒りの色を顔に\\n表して,\\n「まあ,にくらしい扁平頭,悪い扁平頭が\\n人をばかにして.犬たちよ,ココ......」\\nと言うと大きな犬どもが駈け出して来た.\\nそれを見て私は先刻の事を思い出し\\n可笑しく思いながら川の底へ\\n潜りこんで逃げようとしたら,\\nまさか犬たちがそんな事をしようとは\\n思わなかったのに,牙を鳴らしながら\\n川の底まで私に飛び付き\\n陸へ私を引き摺り上げ,私の頭も私の体も\\n噛みつかれ噛みむしられて,しまいに\\nどうなったかわからなくなってしまった.\\nふと気が付いて見ると,\\n大きな獺の耳と耳の間に私はすわって\\nいた.\\nサマユンクルもオキキリムイも\\n父もなく母もないのを私は知って\\nあんな悪戯をしたので罰を当てられ\\nオキキリムイの犬どもに殺され\\nつまらない死方,悪い死方をするのです.\\nこれからの獺たちよ,決して悪戯をしなさるな.\\nと,獺が物語った.'"
      ]
     },
     "execution_count": 213,
     "metadata": {},
     "output_type": "execute_result"
    }
   ],
   "source": [
    "japanese_story"
   ]
  },
  {
   "cell_type": "code",
   "execution_count": 214,
   "metadata": {},
   "outputs": [
    {
     "name": "stdout",
     "output_type": "stream",
     "text": [
      "好的，這是一份將日文詩歌翻譯成繁體中文的譯文，我會盡量保持詩意和原文的含義：\n",
      "\n",
      "**水獺自歌謠**\n",
      "\n",
      "「河童 咧嗚咧嗚 河童」\n",
      "\n",
      "河童 咧嗚咧嗚 河童\n",
      "某日，順流嬉戲而下，\n",
      "來到薩瑪雲庫魯汲水之處，\n",
      "見薩瑪雲庫魯之妹，\n",
      "容貌若神，美不勝收，\n",
      "一手提桶，一手持蒲，\n",
      "我遂於河岸探首，問曰：\n",
      "「汝有父耶？\n",
      "汝有母耶？」\n",
      "少女驚愕，雙目四顧，\n",
      "見我，怒色浮於面，\n",
      "「可憎扁頭，惡劣扁頭，\n",
      "竟敢戲弄於人！犬輩，上啊……」\n",
      "言罷，巨犬奔騰而至，\n",
      "呲牙咧嘴，欲噬我身。\n",
      "我大驚失色，潛入河底，\n",
      "沿河床倉皇逃遁。\n",
      "\n",
      "復至奧奇奇里姆伊汲水之口，\n",
      "探首望之，\n",
      "見奧奇奇里姆伊之妹，\n",
      "容貌若神，美不勝收，\n",
      "一手提桶，一手持蒲，\n",
      "我遂出言，問曰：\n",
      "「汝有父耶？\n",
      "汝有母耶？」\n",
      "少女驚愕，雙目四顧，\n",
      "見我，怒色浮於面，\n",
      "「可憎扁頭，惡劣扁頭，\n",
      "竟敢戲弄於人！犬輩，上啊……」\n",
      "言罷，巨犬奔騰而至。\n",
      "我憶及前事，心生可笑，\n",
      "欲潛入河底逃遁，\n",
      "未料犬輩竟有此舉，\n",
      "呲牙裂嘴，直撲河底，\n",
      "將我拖拽上岸，\n",
      "撕咬我頭，抓撓我身，\n",
      "終至神志不清，不知所終。\n",
      "\n",
      "恍惚醒來，\n",
      "竟坐於巨獺雙耳之間。\n",
      "我明知薩瑪雲庫魯與奧奇奇里姆伊，\n",
      "皆為無父無母之人，\n",
      "仍行此惡作劇，\n",
      "故遭天譴，\n",
      "為奧奇奇里姆伊之犬所殺，\n",
      "落得無謂之死，惡劣之死。\n",
      "告誡後世水獺，切莫惡作劇！\n",
      "水獺如是說。\n"
     ]
    }
   ],
   "source": [
    "chinese_poetic_translation = generate(client,generate_content_config,model,input_text=japanese_story,prompt=poetic_translation_prompt)"
   ]
  },
  {
   "cell_type": "code",
   "execution_count": 215,
   "metadata": {},
   "outputs": [
    {
     "data": {
      "text/plain": [
       "'好的，這是一份將日文詩歌翻譯成繁體中文的譯文，我會盡量保持詩意和原文的含義：\\n\\n**水獺自歌謠**\\n\\n「河童 咧嗚咧嗚 河童」\\n\\n河童 咧嗚咧嗚 河童\\n某日，順流嬉戲而下，\\n來到薩瑪雲庫魯汲水之處，\\n見薩瑪雲庫魯之妹，\\n容貌若神，美不勝收，\\n一手提桶，一手持蒲，\\n我遂於河岸探首，問曰：\\n「汝有父耶？\\n汝有母耶？」\\n少女驚愕，雙目四顧，\\n見我，怒色浮於面，\\n「可憎扁頭，惡劣扁頭，\\n竟敢戲弄於人！犬輩，上啊……」\\n言罷，巨犬奔騰而至，\\n呲牙咧嘴，欲噬我身。\\n我大驚失色，潛入河底，\\n沿河床倉皇逃遁。\\n\\n復至奧奇奇里姆伊汲水之口，\\n探首望之，\\n見奧奇奇里姆伊之妹，\\n容貌若神，美不勝收，\\n一手提桶，一手持蒲，\\n我遂出言，問曰：\\n「汝有父耶？\\n汝有母耶？」\\n少女驚愕，雙目四顧，\\n見我，怒色浮於面，\\n「可憎扁頭，惡劣扁頭，\\n竟敢戲弄於人！犬輩，上啊……」\\n言罷，巨犬奔騰而至。\\n我憶及前事，心生可笑，\\n欲潛入河底逃遁，\\n未料犬輩竟有此舉，\\n呲牙裂嘴，直撲河底，\\n將我拖拽上岸，\\n撕咬我頭，抓撓我身，\\n終至神志不清，不知所終。\\n\\n恍惚醒來，\\n竟坐於巨獺雙耳之間。\\n我明知薩瑪雲庫魯與奧奇奇里姆伊，\\n皆為無父無母之人，\\n仍行此惡作劇，\\n故遭天譴，\\n為奧奇奇里姆伊之犬所殺，\\n落得無謂之死，惡劣之死。\\n告誡後世水獺，切莫惡作劇！\\n水獺如是說。\\n'"
      ]
     },
     "execution_count": 215,
     "metadata": {},
     "output_type": "execute_result"
    }
   ],
   "source": [
    "chinese_poetic_translation"
   ]
  },
  {
   "cell_type": "code",
   "execution_count": 216,
   "metadata": {},
   "outputs": [
    {
     "name": "stdout",
     "output_type": "stream",
     "text": [
      "以下是將日文文本翻譯成繁體中文的結果：\n",
      "\n",
      "**水獺自唱的歌謠**\n",
      "「河童 咧嗚咧嗚 河童」\n",
      "\n",
      "河童 咧嗚咧嗚 河童\n",
      "有一天，我沿著河流嬉戲，\n",
      "游到薩瑪雲庫魯的\n",
      "汲水路口時，\n",
      "看見薩瑪雲庫魯的妹妹，像神一般美麗，\n",
      "一手提著水桶，一手\n",
      "拿著香蒲束走來，\n",
      "我便只露出頭在河邊，\n",
      "問道：「妳有父親嗎？\n",
      "妳有母親嗎？」\n",
      "那女孩嚇了一跳，眼睛四處張望，\n",
      "發現了我，臉上露出\n",
      "憤怒的表情，\n",
      "說：「啊，可惡的扁頭，壞扁頭\n",
      "竟敢愚弄人。狗兒們，過來......」\n",
      "話音未落，大狗們就\n",
      "衝了過來，對著我齜牙咧嘴。\n",
      "我嚇了一跳，趕緊潛入河底，\n",
      "直接沿著河底逃走了。\n",
      "然後，我又在奧基基里穆伊的汲水路口\n",
      "只露出頭來\n",
      "看見奧基基里穆伊的妹妹，\n",
      "像神一般美麗，一手提著水桶，\n",
      "一手拿著香蒲束走來，\n",
      "我就問她：\n",
      "「妳有父親嗎？\n",
      "妳有母親嗎？」\n",
      "那女孩嚇了一跳，眼睛四處張望，\n",
      "發現了我，臉上露出\n",
      "憤怒的表情，\n",
      "說：「啊，可惡的扁頭，壞扁頭\n",
      "竟敢愚弄人。狗兒們，過來......」\n",
      "話音未落，大狗們就衝了過來。\n",
      "我看到這情景，想起剛才的事，\n",
      "覺得好笑，正想潛入河底\n",
      "逃走，\n",
      "沒想到狗兒們竟然會做出那種事，\n",
      "牠們齜牙咧嘴地\n",
      "跳入河底，撲向我，\n",
      "把我拖到岸上，我的頭和身體\n",
      "都被牠們咬住、撕扯，最後\n",
      "發生了什麼事，我就不知道了。\n",
      "突然回過神來，\n",
      "發現自己正坐在\n",
      "一隻大水獺的兩隻耳朵之間。\n",
      "我知道薩瑪雲庫魯和奧基基里穆伊\n",
      "都沒有父母，\n",
      "我還那樣惡作劇，所以受到了懲罰，\n",
      "被奧基基里穆伊的狗兒們殺死，\n",
      "落得一個無聊的死法，糟糕的死法。\n",
      "今後的水獺們啊，千萬不要再惡作劇了。\n",
      "水獺這樣講述著。\n"
     ]
    }
   ],
   "source": [
    "chinese_descriptive_translation = generate(client,generate_content_config,model,input_text=japanese_story,prompt=descriptive_translation_prompt)"
   ]
  },
  {
   "cell_type": "code",
   "execution_count": 217,
   "metadata": {},
   "outputs": [],
   "source": [
    "# write the Chinese translations to Markdown file\n",
    "\n",
    "#read in the template\n",
    "with open(\"templates/raw_output_md_template\", \"r\", encoding=\"utf8\") as f:\n",
    "    md_template = f.read()\n",
    "    md_template = unicodedata.normalize('NFKC', md_template)"
   ]
  },
  {
   "cell_type": "code",
   "execution_count": 218,
   "metadata": {},
   "outputs": [],
   "source": [
    "md_output = md_template.format(translated_language=\"Chinese\", ainu_title=ainu_titles[SONG_NO - 1], \n",
    "                               japanese_title=japanese_titles[SONG_NO], input_japanese = japanese_story, output_poetic=chinese_poetic_translation, output_descriptive=chinese_descriptive_translation)"
   ]
  },
  {
   "cell_type": "code",
   "execution_count": 219,
   "metadata": {},
   "outputs": [
    {
     "data": {
      "text/plain": [
       "'# LLM-assisted Translation project of Ainu shin\\'yoshu (アイヌ神謡集) collected by Chiri Yukie 知里幸惠 (1903 - 1922).\\n\\n## Chinese Translation of\\n\\n## Esaman yaieyukar, “Kappa reureu kappa” 獺かわうそが自ら歌った謡「カッパ レウレウ カッパ」\\n\\n### Model\\ngemini-2.0-flash-001\\n\\n### Setting\\n```\\ngenerate_content_config = types.GenerateContentConfig(\\n    temperature = 0,\\n    top_p = 0,\\n    max_output_tokens = 8192,\\n    response_modalities = [\"TEXT\"],\\n    safety_settings = [types.SafetySetting(\\n      category=\"HARM_CATEGORY_HATE_SPEECH\",\\n      threshold=\"OFF\"\\n    ),types.SafetySetting(\\n      category=\"HARM_CATEGORY_DANGEROUS_CONTENT\",\\n      threshold=\"OFF\"\\n    ),types.SafetySetting(\\n      category=\"HARM_CATEGORY_SEXUALLY_EXPLICIT\",\\n      threshold=\"OFF\"\\n    ),types.SafetySetting(\\n      category=\"HARM_CATEGORY_HARASSMENT\",\\n      threshold=\"OFF\"\\n    )],\\n    system_instruction=[types.Part.from_text(text=si_text1)],\\n  )\\n```\\n\\n### System prompt\\n```\\nYou are a professional translator. You know Japanese, English and Chinese. You can translate Japanese into either Chinese or English.\\n```\\n\\n### Prompt\\n```\\nTranslate the following text from Japanese to Chinese. The original text is a poem. Try to make the translation poetic but keep the original meanings. Display in Traditional Chinese.\\n\\n獺かわうそが自ら歌った謡\\n「カッパ レウレウ カッパ」\\n\\nカッパ レウレウ カッパ\\nある日に,流れに沿うて遊びながら\\n泳いで下りサマユンクルの\\n水汲路のところに来ると,\\nサマユンクルの妹が神の様な美しい容子で\\n片手に手桶を持ち片手に\\n蒲の束を持って来ているので\\n川の縁に私は頭だけ出し,\\n「お父様をお持ちですか?\\nお母様をお持ちですか?」と云うと,\\n娘さんは驚いて眼をきょろきょろさせ\\n私を見つけると,怒の色を顔に\\n現して,\\n「まあ,にくらしい扁平頭,悪い扁平頭が\\n人をばかにして.犬たちよ,ココ......」\\nと言うと,大きな犬どもが\\n駈け出して来て,私を見ると牙を鳴ら\\nしている.私はビックリして川の底へ\\n潜り込んで直ぐそのまま川底を通って\\n逃げ下った.\\nそうして,オキキリムイの水汲路の\\n川口へ頭だけだして\\n見ると,オキキリムイの妹が\\n神の様に美しい様子で片手に手桶を持ち\\n片手に蒲の束を持って\\n来たので私のいうことには,\\n「御父様をお持ちですか?\\n御母様をお持ちですか?」というと,\\n娘さんは驚いて眼をきょろきょろさせ\\n私を見ると,怒りの色を顔に\\n表して,\\n「まあ,にくらしい扁平頭,悪い扁平頭が\\n人をばかにして.犬たちよ,ココ......」\\nと言うと大きな犬どもが駈け出して来た.\\nそれを見て私は先刻の事を思い出し\\n可笑しく思いながら川の底へ\\n潜りこんで逃げようとしたら,\\nまさか犬たちがそんな事をしようとは\\n思わなかったのに,牙を鳴らしながら\\n川の底まで私に飛び付き\\n陸へ私を引き摺り上げ,私の頭も私の体も\\n噛みつかれ噛みむしられて,しまいに\\nどうなったかわからなくなってしまった.\\nふと気が付いて見ると,\\n大きな獺の耳と耳の間に私はすわって\\nいた.\\nサマユンクルもオキキリムイも\\n父もなく母もないのを私は知って\\nあんな悪戯をしたので罰を当てられ\\nオキキリムイの犬どもに殺され\\nつまらない死方,悪い死方をするのです.\\nこれからの獺たちよ,決して悪戯をしなさるな.\\nと,獺が物語った.\\n```\\n\\n### Output\\n```\\n好的，這是一份將日文詩歌翻譯成繁體中文的譯文，我會盡量保持詩意和原文的含義：\\n\\n**水獺自歌謠**\\n\\n「河童 咧嗚咧嗚 河童」\\n\\n河童 咧嗚咧嗚 河童\\n某日，順流嬉戲而下，\\n來到薩瑪雲庫魯汲水之處，\\n見薩瑪雲庫魯之妹，\\n容貌若神，美不勝收，\\n一手提桶，一手持蒲，\\n我遂於河岸探首，問曰：\\n「汝有父耶？\\n汝有母耶？」\\n少女驚愕，雙目四顧，\\n見我，怒色浮於面，\\n「可憎扁頭，惡劣扁頭，\\n竟敢戲弄於人！犬輩，上啊……」\\n言罷，巨犬奔騰而至，\\n呲牙咧嘴，欲噬我身。\\n我大驚失色，潛入河底，\\n沿河床倉皇逃遁。\\n\\n復至奧奇奇里姆伊汲水之口，\\n探首望之，\\n見奧奇奇里姆伊之妹，\\n容貌若神，美不勝收，\\n一手提桶，一手持蒲，\\n我遂出言，問曰：\\n「汝有父耶？\\n汝有母耶？」\\n少女驚愕，雙目四顧，\\n見我，怒色浮於面，\\n「可憎扁頭，惡劣扁頭，\\n竟敢戲弄於人！犬輩，上啊……」\\n言罷，巨犬奔騰而至。\\n我憶及前事，心生可笑，\\n欲潛入河底逃遁，\\n未料犬輩竟有此舉，\\n呲牙裂嘴，直撲河底，\\n將我拖拽上岸，\\n撕咬我頭，抓撓我身，\\n終至神志不清，不知所終。\\n\\n恍惚醒來，\\n竟坐於巨獺雙耳之間。\\n我明知薩瑪雲庫魯與奧奇奇里姆伊，\\n皆為無父無母之人，\\n仍行此惡作劇，\\n故遭天譴，\\n為奧奇奇里姆伊之犬所殺，\\n落得無謂之死，惡劣之死。\\n告誡後世水獺，切莫惡作劇！\\n水獺如是說。\\n\\n```\\n### Another prompt for matched meaning\\n\\n```\\nTranslate the following text from Japanese to Chinese. Keep the original meanings. Display in Traditional Chinese.\\n```\\n\\n### Output of this prompt\\n\\n```\\n以下是將日文文本翻譯成繁體中文的結果：\\n\\n**水獺自唱的歌謠**\\n「河童 咧嗚咧嗚 河童」\\n\\n河童 咧嗚咧嗚 河童\\n有一天，我沿著河流嬉戲，\\n游到薩瑪雲庫魯的\\n汲水路口時，\\n看見薩瑪雲庫魯的妹妹，像神一般美麗，\\n一手提著水桶，一手\\n拿著香蒲束走來，\\n我便只露出頭在河邊，\\n問道：「妳有父親嗎？\\n妳有母親嗎？」\\n那女孩嚇了一跳，眼睛四處張望，\\n發現了我，臉上露出\\n憤怒的表情，\\n說：「啊，可惡的扁頭，壞扁頭\\n竟敢愚弄人。狗兒們，過來......」\\n話音未落，大狗們就\\n衝了過來，對著我齜牙咧嘴。\\n我嚇了一跳，趕緊潛入河底，\\n直接沿著河底逃走了。\\n然後，我又在奧基基里穆伊的汲水路口\\n只露出頭來\\n看見奧基基里穆伊的妹妹，\\n像神一般美麗，一手提著水桶，\\n一手拿著香蒲束走來，\\n我就問她：\\n「妳有父親嗎？\\n妳有母親嗎？」\\n那女孩嚇了一跳，眼睛四處張望，\\n發現了我，臉上露出\\n憤怒的表情，\\n說：「啊，可惡的扁頭，壞扁頭\\n竟敢愚弄人。狗兒們，過來......」\\n話音未落，大狗們就衝了過來。\\n我看到這情景，想起剛才的事，\\n覺得好笑，正想潛入河底\\n逃走，\\n沒想到狗兒們竟然會做出那種事，\\n牠們齜牙咧嘴地\\n跳入河底，撲向我，\\n把我拖到岸上，我的頭和身體\\n都被牠們咬住、撕扯，最後\\n發生了什麼事，我就不知道了。\\n突然回過神來，\\n發現自己正坐在\\n一隻大水獺的兩隻耳朵之間。\\n我知道薩瑪雲庫魯和奧基基里穆伊\\n都沒有父母，\\n我還那樣惡作劇，所以受到了懲罰，\\n被奧基基里穆伊的狗兒們殺死，\\n落得一個無聊的死法，糟糕的死法。\\n今後的水獺們啊，千萬不要再惡作劇了。\\n水獺這樣講述著。\\n\\n```'"
      ]
     },
     "execution_count": 219,
     "metadata": {},
     "output_type": "execute_result"
    }
   ],
   "source": [
    "md_output"
   ]
  },
  {
   "cell_type": "code",
   "execution_count": 220,
   "metadata": {},
   "outputs": [],
   "source": [
    "# setup the output file name\n",
    "\n",
    "s = ainu_titles[SONG_NO - 1].split()\n",
    "md_name_part = s[0]\n",
    "\n",
    "name_2nd_part = \"\"\n",
    "\n",
    "for text in s:\n",
    "    if text.startswith('“'):\n",
    "        name_2nd_part = text.replace('“', '').replace('”', '')\n",
    "        \n",
    "md_name_part += \"_\" + name_2nd_part"
   ]
  },
  {
   "cell_type": "code",
   "execution_count": 221,
   "metadata": {},
   "outputs": [],
   "source": [
    "with open(f\"LLM_prompts_and_raw_outputs/{SONG_NO}_{md_name_part}_to_Chinese.md\", \"w\", encoding=\"utf8\") as f:\n",
    "    f.write(md_output)"
   ]
  },
  {
   "cell_type": "code",
   "execution_count": null,
   "metadata": {},
   "outputs": [],
   "source": []
  }
 ],
 "metadata": {
  "kernelspec": {
   "display_name": "llama",
   "language": "python",
   "name": "python3"
  },
  "language_info": {
   "codemirror_mode": {
    "name": "ipython",
    "version": 3
   },
   "file_extension": ".py",
   "mimetype": "text/x-python",
   "name": "python",
   "nbconvert_exporter": "python",
   "pygments_lexer": "ipython3",
   "version": "3.11.11"
  }
 },
 "nbformat": 4,
 "nbformat_minor": 2
}
