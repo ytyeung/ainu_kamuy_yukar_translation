{
 "cells": [
  {
   "cell_type": "code",
   "execution_count": 1,
   "metadata": {},
   "outputs": [],
   "source": [
    "import os\n",
    "from google import genai\n",
    "from google.genai import types\n",
    "from dotenv import load_dotenv\n",
    "from pydantic import BaseModel, Field\n",
    "import json\n",
    "\n",
    "import unicodedata\n",
    "import re"
   ]
  },
  {
   "cell_type": "code",
   "execution_count": 2,
   "metadata": {},
   "outputs": [],
   "source": [
    "load_dotenv()\n",
    "project_name = os.getenv('PROJECT_NAME')"
   ]
  },
  {
   "cell_type": "code",
   "execution_count": 3,
   "metadata": {},
   "outputs": [],
   "source": [
    "client = genai.Client(\n",
    "      vertexai=True,\n",
    "      project=project_name,\n",
    "      location=\"us-central1\",\n",
    ")\n",
    "\n",
    "model = \"gemini-2.0-flash-001\"\n",
    "\n",
    "generate_content_config = types.GenerateContentConfig(\n",
    "    temperature = 0,\n",
    "    top_p = 0,\n",
    "  )"
   ]
  },
  {
   "cell_type": "code",
   "execution_count": 4,
   "metadata": {},
   "outputs": [],
   "source": [
    "# read the content page of Japanese translation and get the Japanese translated title\n",
    "with open(\"Chiri_Japanese_Translation/content.txt\", \"r\", encoding=\"utf8\") as f:\n",
    "    japanese_content = f.read()\n",
    "    japanese_content = unicodedata.normalize('NFKC', japanese_content)\n",
    "\n",
    "\n",
    "s=re.split(r'\\n\\n', japanese_content)\n",
    "japanese_titles = re.split(r'\\n', s[1])"
   ]
  },
  {
   "cell_type": "code",
   "execution_count": 5,
   "metadata": {},
   "outputs": [],
   "source": [
    "chinese_extraction_prompt = \"The provided content is a Chinese translation of the Ainu original text in Markdown. Please extract the Chinese translation from the last output.\"\n",
    "english_extraction_prompt = \"The provided content is an English translation of the Ainu original text in Markdown. Please extract the English translation from the last output.\""
   ]
  },
  {
   "cell_type": "code",
   "execution_count": 6,
   "metadata": {},
   "outputs": [],
   "source": [
    "def generate(client: genai.Client,generate_content_config :types.GenerateContentConfig,model :str, /,input_text :str, prompt :str):\n",
    "\n",
    "    text_full_prompt = text1 = types.Part.from_text(text=f\"{prompt}\\n\\n{input_text}\")\n",
    "\n",
    "    output = \"\"\n",
    "\n",
    "    contents = [\n",
    "      types.Content(\n",
    "        role=\"user\",\n",
    "        parts=[\n",
    "          text_full_prompt\n",
    "        ]\n",
    "      )\n",
    "    ]\n",
    "\n",
    "    for chunk in client.models.generate_content_stream(\n",
    "        model = model,\n",
    "        contents = contents,\n",
    "        config = generate_content_config,\n",
    "        ):\n",
    "        print(chunk.text, end=\"\")\n",
    "        output += chunk.text\n",
    "\n",
    "    return output\n",
    "\n",
    "def get_output_file_name_key(title :str):\n",
    "    # setup the output file name\n",
    "    s = title.split()\n",
    "    md_name_part = s[0]\n",
    "\n",
    "    name_2nd_part = \"\"\n",
    "\n",
    "    for text in s:\n",
    "        if text.startswith('“'):\n",
    "            name_2nd_part = text.replace('“', '').replace('”', '')\n",
    "        \n",
    "    md_name_part += \"_\" + name_2nd_part\n",
    "\n",
    "    return md_name_part\n",
    "\n"
   ]
  },
  {
   "cell_type": "code",
   "execution_count": 7,
   "metadata": {},
   "outputs": [
    {
     "name": "stdout",
     "output_type": "stream",
     "text": [
      "序\n",
      "\n",
      "在很久以前,這片廣闊的北海道,是我們祖先自由的天地。他們像天真爛漫的孩童一般,被美麗的大自然擁抱,悠閒快樂地生活著,真是大自然的寵兒,多麼幸福的人們啊!\n",
      "\n",
      "冬日裡,他們踢開覆蓋林野的厚厚積雪,不畏冰凍天地的寒氣,翻山越嶺地獵熊;夏日裡,他們在涼風吹拂、綠波蕩漾的海面上,與白鷗的歌聲為伴,漂浮在如樹葉般的小舟上,終日捕魚;在鮮花盛開的春天,他們沐浴在柔和的陽光下,與永遠歌唱的小鳥一同歡度時光,採摘蜂斗菜和艾蒿;在紅葉似火的秋天,他們撥開被狂風吹拂、穗頭整齊的芒草,直到深夜捕鮭魚的篝火熄滅,在山谷間鹿鳴聲聲的陪伴下,對著皎潔的明月編織夢想。啊,多麼快樂的生活啊!和平的境地,如今都已是往昔,夢想破滅數十年,這片土地發生了急劇的變化,山野變成村莊,村莊變成城鎮,逐漸地開墾發展。\n",
      "\n",
      "太古時代的自然風貌不知何時已漸漸消失,曾經在田野山邊快樂生活著的許多人民,他們的去向又在何方?僅僅殘存的我們同族,對於不斷前進的世態,只能驚訝地睜大眼睛。而且從那雙眼睛裡,昔日人們被一舉一動宗教觀念所支配的美麗靈魂的光輝已經消失,充滿著不安和不滿,變得遲鈍黯淡,看不清前方的道路,不得不依靠別人的慈悲,多麼可悲的姿態,啊,即將滅亡的事物......那就是現在我們的名字,我們擁有著多麼悲傷的名字啊!\n",
      "\n",
      "在很久以前,幸福的我們的祖先,一定連一點點都無法想像,自己的這片故鄉最終會變成如此淒慘的模樣吧。\n",
      "\n",
      "時間不斷流逝,世界無限發展。在激烈的競爭場裡,即使是現在的我們,正暴露著敗北的醜態,但總有一天,如果能出現兩三位堅強的人,與不斷前進的時代並肩前行的日子,也終將到來吧。那真的是我們迫切的願望,是我們日夜祈禱的事情。\n",
      "\n",
      "但是......我們敬愛的祖先,為了在日常生活中互相溝通而使用的眾多語言,那些被說舊了、被遺留下來的許多美麗的詞語,難道也要全部無情地,隨著即將滅亡的弱者一同消失嗎?啊,那是多麼令人悲痛和惋惜的事情啊!\n",
      "\n",
      "身為阿伊努人,在阿伊努語中成長的我,在下雨的夜晚,下雪的夜晚,每當有空閒的時候,便聚集在一起,將我們的祖先所講述的各種故事中,極小的一部分,用拙劣的筆觸記錄下來。\n",
      "\n",
      "如果能讓了解我們的許多人閱讀到這些文字,我將與我們的同族祖先一同,感到無比的喜悅,無上的幸福。\n",
      "\n",
      "大正十一年三月一日\n",
      "\n",
      "知里幸惠\n",
      "## Preface\n",
      "\n",
      "Long ago, this vast land of Hokkaido was the realm of freedom for our ancestors. Like innocent children, they were embraced by the beautiful nature, living leisurely and happily. Truly, they were nature's darlings, such blessed people they were.\n",
      "\n",
      "In winter, they kicked through the deep snow covering the forests, braving the freezing air that chilled the earth, crossing mountain after mountain to hunt bears. In summer, they sailed their leaf-like boats on the green waves where cool breezes swam, the songs of white gulls their companions, fishing all day long. In the blossoming spring, they basked in the soft sunlight, spending their days singing with the eternally chirping birds, gathering butterburs and mugwort. In the crimson autumn, they parted the fields of pampas grass, whose ears swayed in the autumn wind, until the bonfires for catching salmon faded into the evening. With the calls of deer echoing through the valleys, they dreamt beneath the round moon. Ah, what a joyous life!\n",
      "\n",
      "That peaceful world is now a thing of the past. Decades have passed since those dreams were shattered. This land has undergone rapid transformation, with mountains and fields gradually giving way to villages, and villages to towns.\n",
      "\n",
      "Before we knew it, the ancient face of nature has faded, and where have all the people who once lived joyfully in the fields and mountains gone? The few of our kin who remain can only stare in astonishment at the changing world. Yet, the beautiful souls of those ancient people, whose every action was governed by religious sentiment, are now gone from their eyes, replaced by anxiety and resentment, dulled and clouded, unable to see the way forward. They must rely on the mercy of others, a wretched sight. Oh, those who are dying out... that is our name now. What a sorrowful name we bear.\n",
      "\n",
      "In the past, our happy ancestors could never have imagined that their homeland would one day be reduced to such a miserable state.\n",
      "\n",
      "Time flows ceaselessly, and the world advances infinitely. From among us, who are now exposing the ugliness of the defeated in this fierce arena of competition, perhaps someday two or three strong individuals will emerge, and the day will eventually come when we can keep pace with the advancing world. That is truly our ardent hope, and we pray for it morning and night.\n",
      "\n",
      "But... will all the many languages that our beloved ancestors used to communicate with each other daily, the ancient and beautiful words they passed down, all disappear along with the perishing weak? Oh, that is too heartbreaking and regrettable.\n",
      "\n",
      "Born an Ainu and raised within the Ainu language, I have written down in clumsy prose one or two of the very small stories from the many tales our ancestors used to gather and enjoy on rainy evenings and snowy nights whenever I had some free time.\n",
      "\n",
      "If many who know us can read this, I, along with our ancestors, will truly feel boundless joy and supreme happiness.\n",
      "\n",
      "March 1, 1922\n",
      "\n",
      "Yukie Chiri\n"
     ]
    }
   ],
   "source": [
    "# process the translation in batch mode\n",
    "with open(f\"Chiri_Japanese_Translation/prologue.txt\", \"r\", encoding=\"utf8\") as f:\n",
    "    japanese_story = f.read()\n",
    "    japanese_story = unicodedata.normalize('NFKC', japanese_story)\n",
    "\n",
    "with open(f\"LLM_prompts_and_raw_translations_main_text/Chinese_Translation/Chiri_Yukie_prologue_to_Chinese.md\", \"r\", encoding=\"utf8\") as f:\n",
    "    md_chinese_text = f.read()\n",
    "    md_chinese_text = unicodedata.normalize('NFKC', md_chinese_text)\n",
    "\n",
    "    chinese_translation_extraction = generate(client,generate_content_config,model,input_text=md_chinese_text,prompt=chinese_extraction_prompt)\n",
    "\n",
    "    chinese_translation_extraction = re.sub(r'```','',chinese_translation_extraction)\n",
    "\n",
    "with open(f\"LLM_prompts_and_raw_translations_main_text/English_Translation/Chiri_Yukie_prologue_to_English.md\", \"r\", encoding=\"utf8\") as f:\n",
    "    md_english_text = f.read()\n",
    "    md_english_text = unicodedata.normalize('NFKC', md_english_text)\n",
    "\n",
    "    english_translation_extraction = generate(client,generate_content_config,model,input_text=md_english_text,prompt=english_extraction_prompt)\n",
    "    english_translation_extraction = re.sub(r'```','',english_translation_extraction)\n",
    "\n",
    "\n",
    "    data_dict = {'ainu_title': \"\", 'japanese_title': japanese_titles[0], 'japanese_translation': japanese_story, 'chinese_translation': chinese_translation_extraction, 'english_translation': english_translation_extraction}\n",
    "\n",
    "with open(f\"raw_translations_main_text_json/Chiri_Yukie_prologue.json\", \"w\", encoding=\"utf8\") as f:\n",
    "    json.dump(data_dict, f, ensure_ascii=False, indent=4)\n",
    "\n"
   ]
  },
  {
   "cell_type": "code",
   "execution_count": null,
   "metadata": {},
   "outputs": [],
   "source": []
  },
  {
   "cell_type": "code",
   "execution_count": null,
   "metadata": {},
   "outputs": [],
   "source": []
  },
  {
   "cell_type": "code",
   "execution_count": null,
   "metadata": {},
   "outputs": [],
   "source": []
  }
 ],
 "metadata": {
  "kernelspec": {
   "display_name": "llama",
   "language": "python",
   "name": "python3"
  },
  "language_info": {
   "codemirror_mode": {
    "name": "ipython",
    "version": 3
   },
   "file_extension": ".py",
   "mimetype": "text/x-python",
   "name": "python",
   "nbconvert_exporter": "python",
   "pygments_lexer": "ipython3",
   "version": "3.11.11"
  }
 },
 "nbformat": 4,
 "nbformat_minor": 2
}
